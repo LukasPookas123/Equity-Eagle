{
 "cells": [
  {
   "cell_type": "code",
   "execution_count": 20,
   "metadata": {},
   "outputs": [
    {
     "data": {
      "text/html": [
       "<div>\n",
       "<style scoped>\n",
       "    .dataframe tbody tr th:only-of-type {\n",
       "        vertical-align: middle;\n",
       "    }\n",
       "\n",
       "    .dataframe tbody tr th {\n",
       "        vertical-align: top;\n",
       "    }\n",
       "\n",
       "    .dataframe thead th {\n",
       "        text-align: right;\n",
       "    }\n",
       "</style>\n",
       "<table border=\"1\" class=\"dataframe\">\n",
       "  <thead>\n",
       "    <tr style=\"text-align: right;\">\n",
       "      <th></th>\n",
       "      <th>Instrument</th>\n",
       "      <th>Revenue</th>\n",
       "    </tr>\n",
       "  </thead>\n",
       "  <tbody>\n",
       "    <tr>\n",
       "      <th>0</th>\n",
       "      <td>GOOG.O</td>\n",
       "      <td>282836000000</td>\n",
       "    </tr>\n",
       "    <tr>\n",
       "      <th>1</th>\n",
       "      <td>MSFT.O</td>\n",
       "      <td>198270000000</td>\n",
       "    </tr>\n",
       "    <tr>\n",
       "      <th>2</th>\n",
       "      <td>FB.O</td>\n",
       "      <td>116609000000</td>\n",
       "    </tr>\n",
       "  </tbody>\n",
       "</table>\n",
       "</div>"
      ],
      "text/plain": [
       "  Instrument       Revenue\n",
       "0     GOOG.O  282836000000\n",
       "1     MSFT.O  198270000000\n",
       "2       FB.O  116609000000"
      ]
     },
     "metadata": {},
     "output_type": "display_data"
    }
   ],
   "source": [
    "import eikon as ek\n",
    "import refinitiv.dataplatform as rdp\n",
    "ek.set_app_key('04c0e3f661bd49348d69c3aabedb8c0108cfd1e2')\n",
    "\n",
    "df, err = ek.get_data(\n",
    "    instruments = ['GOOG.O','MSFT.O', 'FB.O'], \n",
    "    fields = ['TR.Revenue']\n",
    ")\n",
    "display(df)\n"
   ]
  },
  {
   "cell_type": "code",
   "execution_count": 1,
   "metadata": {},
   "outputs": [
    {
     "ename": "NameError",
     "evalue": "name 'ek' is not defined",
     "output_type": "error",
     "traceback": [
      "\u001b[1;31m---------------------------------------------------------------------------\u001b[0m",
      "\u001b[1;31mNameError\u001b[0m                                 Traceback (most recent call last)",
      "Cell \u001b[1;32mIn[1], line 1\u001b[0m\n\u001b[1;32m----> 1\u001b[0m df, err \u001b[39m=\u001b[39m ek\u001b[39m.\u001b[39mget_data(\n\u001b[0;32m      2\u001b[0m     instruments \u001b[39m=\u001b[39m [\u001b[39m'\u001b[39m\u001b[39mGOOGL.O\u001b[39m\u001b[39m'\u001b[39m],\n\u001b[0;32m      3\u001b[0m     fields \u001b[39m=\u001b[39m [\n\u001b[0;32m      4\u001b[0m         \u001b[39m'\u001b[39m\u001b[39mTR.CompanyMarketCapitalization\u001b[39m\u001b[39m'\u001b[39m,\n\u001b[0;32m      5\u001b[0m         \u001b[39m'\u001b[39m\u001b[39mTR.Revenue\u001b[39m\u001b[39m'\u001b[39m,\n\u001b[0;32m      6\u001b[0m         \u001b[39m'\u001b[39m\u001b[39mTR.NetProfitMean\u001b[39m\u001b[39m'\u001b[39m,\n\u001b[0;32m      7\u001b[0m         \u001b[39m'\u001b[39m\u001b[39mTR.PE\u001b[39m\u001b[39m'\u001b[39m,\n\u001b[0;32m      8\u001b[0m         \u001b[39m'\u001b[39m\u001b[39mTR.PriceToSalesPerShare\u001b[39m\u001b[39m'\u001b[39m\n\u001b[0;32m      9\u001b[0m     ],\n\u001b[0;32m     10\u001b[0m     parameters \u001b[39m=\u001b[39m {\n\u001b[0;32m     11\u001b[0m         \u001b[39m'\u001b[39m\u001b[39mSDate\u001b[39m\u001b[39m'\u001b[39m: \u001b[39m'\u001b[39m\u001b[39m1D\u001b[39m\u001b[39m'\u001b[39m,\n\u001b[0;32m     12\u001b[0m         \u001b[39m'\u001b[39m\u001b[39mCurn\u001b[39m\u001b[39m'\u001b[39m: \u001b[39m'\u001b[39m\u001b[39mNative\u001b[39m\u001b[39m'\u001b[39m\n\u001b[0;32m     13\u001b[0m     }\n\u001b[0;32m     14\u001b[0m )\n\u001b[0;32m     16\u001b[0m display(df)\n",
      "\u001b[1;31mNameError\u001b[0m: name 'ek' is not defined"
     ]
    }
   ],
   "source": [
    "\n",
    "df, err = ek.get_data(\n",
    "    instruments = ['GOOGL.O'],\n",
    "    fields = [\n",
    "        'TR.CompanyMarketCapitalization',\n",
    "        'TR.Revenue',\n",
    "        'TR.NetProfitMean',\n",
    "        'TR.PE',\n",
    "        'TR.PriceToSalesPerShare'\n",
    "    ],\n",
    "    parameters = {\n",
    "        'SDate': '1D',\n",
    "        'Curn': 'USD'\n",
    "    }\n",
    ")\n",
    "\n",
    "display(df)"
   ]
  },
  {
   "cell_type": "code",
   "execution_count": 4,
   "metadata": {},
   "outputs": [
    {
     "data": {
      "text/html": [
       "<div>\n",
       "<style scoped>\n",
       "    .dataframe tbody tr th:only-of-type {\n",
       "        vertical-align: middle;\n",
       "    }\n",
       "\n",
       "    .dataframe tbody tr th {\n",
       "        vertical-align: top;\n",
       "    }\n",
       "\n",
       "    .dataframe thead th {\n",
       "        text-align: right;\n",
       "    }\n",
       "</style>\n",
       "<table border=\"1\" class=\"dataframe\">\n",
       "  <thead>\n",
       "    <tr style=\"text-align: right;\">\n",
       "      <th>AAPL.OQ</th>\n",
       "      <th>CLOSE</th>\n",
       "    </tr>\n",
       "    <tr>\n",
       "      <th>Date</th>\n",
       "      <th></th>\n",
       "    </tr>\n",
       "  </thead>\n",
       "  <tbody>\n",
       "    <tr>\n",
       "      <th>2011-05-02</th>\n",
       "      <td>12.36713</td>\n",
       "    </tr>\n",
       "    <tr>\n",
       "      <th>2011-05-03</th>\n",
       "      <td>12.435702</td>\n",
       "    </tr>\n",
       "    <tr>\n",
       "      <th>2011-05-04</th>\n",
       "      <td>12.496059</td>\n",
       "    </tr>\n",
       "    <tr>\n",
       "      <th>2011-05-05</th>\n",
       "      <td>12.389988</td>\n",
       "    </tr>\n",
       "    <tr>\n",
       "      <th>2011-05-06</th>\n",
       "      <td>12.380702</td>\n",
       "    </tr>\n",
       "    <tr>\n",
       "      <th>...</th>\n",
       "      <td>...</td>\n",
       "    </tr>\n",
       "    <tr>\n",
       "      <th>2023-03-27</th>\n",
       "      <td>158.28</td>\n",
       "    </tr>\n",
       "    <tr>\n",
       "      <th>2023-03-28</th>\n",
       "      <td>157.65</td>\n",
       "    </tr>\n",
       "    <tr>\n",
       "      <th>2023-03-29</th>\n",
       "      <td>160.77</td>\n",
       "    </tr>\n",
       "    <tr>\n",
       "      <th>2023-03-30</th>\n",
       "      <td>162.36</td>\n",
       "    </tr>\n",
       "    <tr>\n",
       "      <th>2023-03-31</th>\n",
       "      <td>164.9</td>\n",
       "    </tr>\n",
       "  </tbody>\n",
       "</table>\n",
       "<p>3000 rows × 1 columns</p>\n",
       "</div>"
      ],
      "text/plain": [
       "AAPL.OQ         CLOSE\n",
       "Date                 \n",
       "2011-05-02   12.36713\n",
       "2011-05-03  12.435702\n",
       "2011-05-04  12.496059\n",
       "2011-05-05  12.389988\n",
       "2011-05-06  12.380702\n",
       "...               ...\n",
       "2023-03-27     158.28\n",
       "2023-03-28     157.65\n",
       "2023-03-29     160.77\n",
       "2023-03-30     162.36\n",
       "2023-03-31      164.9\n",
       "\n",
       "[3000 rows x 1 columns]"
      ]
     },
     "metadata": {},
     "output_type": "display_data"
    }
   ],
   "source": [
    "import eikon as ek\n",
    "import pandas as pd\n",
    "import refinitiv.dataplatform as rdp\n",
    "import datetime as dt\n",
    "\n",
    "\n",
    "#set app key to identify the application on Refinitiv Platform\n",
    "ek.set_app_key('04c0e3f661bd49348d69c3aabedb8c0108cfd1e2')\n",
    "\n",
    "#a RIC that you want to get time series\n",
    "RIC = 'AAPL.OQ'\n",
    "\n",
    "#start and end date; it is in format yyyy-mm-dd\n",
    "start_date = '2018-01-02'\n",
    "now = dt.datetime.now()\n",
    "start = now - dt.timedelta(days = 365*25)\n",
    "\n",
    "#get time series till the last market close date\n",
    "df = ek.get_timeseries(RIC, 'CLOSE', interval='daily', start_date=start, end_date=now)\n",
    "\n",
    "#initialising demo of generating timeseries for list of stock tickers\n",
    "RICs = ['AAPL.OQ','MSFT.OQ','2222.SE','GOOGL.OQ','AMZN.OQ']\n",
    "dfs = list()\n",
    "for ticker in RICs:\n",
    "    dfs.append(ek.get_timeseries(ticker,'CLOSE',interval='daily',start_date=start,end_date=now))\n",
    "\n",
    "display(dfs[0])"
   ]
  },
  {
   "cell_type": "code",
   "execution_count": 218,
   "metadata": {},
   "outputs": [
    {
     "data": {
      "text/html": [
       "<div>\n",
       "<style scoped>\n",
       "    .dataframe tbody tr th:only-of-type {\n",
       "        vertical-align: middle;\n",
       "    }\n",
       "\n",
       "    .dataframe tbody tr th {\n",
       "        vertical-align: top;\n",
       "    }\n",
       "\n",
       "    .dataframe thead th {\n",
       "        text-align: right;\n",
       "    }\n",
       "</style>\n",
       "<table border=\"1\" class=\"dataframe\">\n",
       "  <thead>\n",
       "    <tr style=\"text-align: right;\">\n",
       "      <th></th>\n",
       "      <th>None</th>\n",
       "      <th>TR.DIVIDENDYIELD(CURN=USD)</th>\n",
       "      <th>TR.F.DIVPAYOUTRATIOPCT/100</th>\n",
       "      <th>TR.F.MKTCAP(PERIOD=FY0)</th>\n",
       "    </tr>\n",
       "  </thead>\n",
       "  <tbody>\n",
       "    <tr>\n",
       "      <th>0</th>\n",
       "      <td>PEERS(\"LVMH.PA\")</td>\n",
       "      <td>&lt;NA&gt;</td>\n",
       "      <td>&lt;NA&gt;</td>\n",
       "      <td>&lt;NA&gt;</td>\n",
       "    </tr>\n",
       "  </tbody>\n",
       "</table>\n",
       "</div>"
      ],
      "text/plain": [
       "               None  TR.DIVIDENDYIELD(CURN=USD)  TR.F.DIVPAYOUTRATIOPCT/100  \\\n",
       "0  PEERS(\"LVMH.PA\")                        <NA>                        <NA>   \n",
       "\n",
       "   TR.F.MKTCAP(PERIOD=FY0)  \n",
       "0                     <NA>  "
      ]
     },
     "metadata": {},
     "output_type": "display_data"
    },
    {
     "data": {
      "text/plain": [
       "'\\nfundamental data:\\n=company overview: description, founded, employees, website\\n=stock graph\\n=volatility vs peers average\\n=revenue\\n=market cap\\n=earnings\\n=PE\\n=PS\\n=All peers metrics\\n=Cost of revenue\\n=current dividen yield\\n=payout ratio\\n'"
      ]
     },
     "execution_count": 218,
     "metadata": {},
     "output_type": "execute_result"
    }
   ],
   "source": [
    "import os\n",
    "dataPath = os.path.abspath(os.path.join(os.path.dirname((os.path.curdir.__dir__()[0])), '..', 'Data')) #goes up a dir to equity eagle then into Data dir\n",
    "#os.makedirs(dataPath + \"\\{}\".format(\"MSFT.OQ\")) \n",
    "# df = ek.get_timeseries(ticker,'CLOSE',interval='daily',start_date=start,end_date=now)\n",
    "# df.to_csv(path_or_buf = dataPath + \"\\{}\\Prices.csv\".format(ticker))\n",
    "df,err = ek.get_data('PEERS(\"LVMH.PA\")'.format(ticker),\n",
    "    [\n",
    "    'TR.DividendYield','TR.F.DivPayoutRatioPct/100','TR.F.MktCap(Period=FY0)'\n",
    "    ])\n",
    "#df['Price / EPS (SmartEstimate ®)'] = pd.to_numeric(df['Price / EPS (SmartEstimate ®)'],errors='coerce') #remove nan string in starMine col\n",
    "#df = df.dropna(axis=0,how='any')\n",
    "display(df)\n",
    "'''\n",
    "fundamental data:\n",
    "=company overview: description, founded, employees, website\n",
    "=stock graph\n",
    "=volatility vs peers average\n",
    "=revenue\n",
    "=market cap\n",
    "=earnings\n",
    "=PE\n",
    "=PS\n",
    "=All peers metrics\n",
    "=Cost of revenue\n",
    "=current dividen yield\n",
    "=payout ratio\n",
    "'''"
   ]
  },
  {
   "cell_type": "code",
   "execution_count": 231,
   "metadata": {},
   "outputs": [
    {
     "name": "stderr",
     "output_type": "stream",
     "text": [
      "C:\\Users\\paulv\\AppData\\Local\\Temp\\ipykernel_14588\\695389811.py:1: DeprecationWarning: Importing display from IPython.core.display is deprecated since IPython 7.14, please import from IPython display\n",
      "  from IPython.core.display import display, HTML\n"
     ]
    },
    {
     "data": {
      "text/html": [
       "<div class=\"storyContent\" lang=\"en\"><style type=\"text/css\">.storyContent * {border-color:inherit !important;outline-color:inherit !important;}</style><p class=\"tr-advisory\">For a Reuters live blog on U.S., UK and European stock markets, click LIVE/ or type LIVE/ in a news window.</p><ul class=\"bulleted-list arrowlist\"><li class=\"tr-summaryitem\">February PCE growth slows</li><li class=\"tr-summaryitem\">S&amp;P 500 gains for second straight quarter</li></ul><p class=\"tr-advisory\">Updates to close</p><p class=\"tr-by\">By Caroline Valetkevitch</p><p class=\"tr-story-p1\">\n",
       "    <span class=\"tr-dateline\">NEW YORK, March 31 (Reuters)</span><span class=\"tr-dl-sep\"> - </span>Wall Street rallied on Friday and the Nasdaq notched its biggest quarterly percentage gain since June 2020, as signs of cooling inflation bolstered hopes the Federal Reserve might soon end its aggressive interest rate hikes.</p><p>\n",
       "        The S&amp;P 500 posted a second straight quarter of gains, led by the technology sector's <a href=\"reuters://REALTIME/Verb=FullQuote/ric=.SPLRCT\" data-type=\"ric\" data-ric=\".SPLRCT\" translate=\"no\" dir=\"ltr\">.SPLRCT</a> <span class=\"tr-strong\">more than 20% rise</span>.</p><p>The quarterly gains came despite a sharp sell-off in bank stocks following the collapse of two regional banks earlier this month <span class=\"tr-strong\">and worries about a bigger financial crisis</span>.</p><p>The Commerce Department report Friday <a href=\"reuters://REALTIME/verb=NewsStory/ric=nL1N3631A4\" data-type=\"storyId\" data-story-id=\"nL1N3631A4\" dir=\"ltr\" class=\"tr-pnac\">showed</a> U.S. consumer spending rose moderately in February while inflation cooled.</p><p>\"The equity market seems to be delighted with the slight tick lower in inflation, as it should be. It underscores that the Fed's campaign is, in fact, working, albeit slowly,\" said Quincy Krosby, chief global strategist at LPL Financial in Charlotte, North Carolina.</p><p>The Fed has been raising rates to cool inflation, and traders' bets of a 25-basis-point rate hike in May stood at 53.8% on Friday, according to CME Group's Fedwatch tool.</p><p>According to preliminary data, the S&amp;P 500 <a href=\"reuters://REALTIME/Verb=FullQuote/ric=.SPX\" data-type=\"ric\" data-ric=\".SPX\" translate=\"no\" dir=\"ltr\">.SPX</a> gained 58.07 points, or 1.43%, to end at 4,108.76 points, while the Nasdaq Composite <a href=\"reuters://REALTIME/Verb=FullQuote/ric=.IXIC\" data-type=\"ric\" data-ric=\".IXIC\" translate=\"no\" dir=\"ltr\">.IXIC</a> gained 208.44 points, or 1.74%, to 12,221.91. The Dow Jones Industrial Average <a href=\"reuters://REALTIME/Verb=FullQuote/ric=.DJI\" data-type=\"ric\" data-ric=\".DJI\" translate=\"no\" dir=\"ltr\">.DJI</a> rose 408.66 points, or 1.24%, to 33,267.69.</p><p><br/></p><p>\n",
       "            \n",
       "  </p><p><span class=\"tr-resource-ref tr-graphic-static\" id=\"g28b10bbe-87e4-43a5-8f70-dc804fcf8e0d\"><div class=\"tr-image\"><div class=\"tr-image-components\"><img src=\"https://graphics.reuters.com/STOCKS-QUARTER/egpbyjdlwvq/chart.png\" data-internal-src=\"https://rp.cp.dtc.reuint.com/Apps/NewsServices/images?apiKey=5ebc2e3a-46da-43d2-9c9f-8030fb911eb9&amp;type=base64Url&amp;id=aHR0cHM6Ly9ncmFwaGljcy5yZXV0ZXJzLmNvbS9TVE9DS1MtUVVBUlRFUi9lZ3BieWpkbHd2cS9jaGFydC5wbmc=&amp;storyId=urn:newsml:newswire.refinitiv.com:20230331:nL1N3632J5:6&amp;key=474886bd9a91bdde39f58af8ec2added59525bcd471e38a00ac4043439242a4c6e36c29d1408aa6c638dd76685cc322b2c709a6e23ef109d9e7299d3261844f1\"/></div></div></span></p><p>\n",
       "      \n",
       "  </p><p>Semiconductors <a href=\"reuters://REALTIME/Verb=FullQuote/ric=.SOX\" data-type=\"ric\" data-ric=\".SOX\" translate=\"no\" dir=\"ltr\">.SOX</a> <span class=\"tr-strong\">were among the quarter's strongest performing groups.</span></p><p>Shares of big tech gained as investors rotated out of banks and as U.S. Treasury yields eased, with the two-year <span class=\"tr-strong\">note</span> yield <span class=\"tr-strong\">posting </span>on Friday<span class=\"tr-strong\"> its </span><a href=\"reuters://REALTIME/verb=NewsStory/ric=nL1N3632ET\" data-type=\"storyId\" data-story-id=\"nL1N3632ET\" dir=\"ltr\" class=\"tr-pnac\">largest monthly drop</a> since 2008. Higher yields tend to be a negative for big tech companies.</p><p><span class=\"tr-strong\">Also, Apple Inc <a href=\"reuters://REALTIME/Verb=FullQuote/ric=AAPL.O\" data-type=\"ric\" data-ric=\"AAPL.O\" translate=\"no\" dir=\"ltr\">AAPL.O</a> shares rose Friday after it won its appeal against the decision by Britain's antitrust regulator to launch an investigation into its mobile browser and cloud gaming services.</span></p><p><span class=\"tr-strong\">Boston Fed President Susan Collins said Friday that wherever the U.S. central bank stops with its rate rises, maintaining that level for some time will be critical in helping to lower high inflation back to the 2% target.</span></p><p><br/></p><p><br/></p><div style=\"display:none;\" class=\"tr-sandwichbox\"></div><p class=\"tr-signoff\"> (Reporting by Caroline Valetkevitch; additional reporting by Amruta Khandekar and Ankika Biswas; additional reporting by Johann M Cherian Editing by Vinay Dwivedi and Maju Samuel)</p><p class=\"tr-contactinfo\">(( <a href=\"mailto:caroline.valetkevitch@thomsonreuters.com\" data-type=\"email\" translate=\"no\">caroline.valetkevitch@thomsonreuters.com</a> ))</p><p class=\"line-break\"><br/></p><p class=\"tr-copyright\">(c) Copyright Thomson Reuters 2023. Click For Restrictions - https://agency.reuters.com/en/copyright.html</p><p class=\"line-break\"><br/></p><p class=\"tr-slugline\">Keywords: USA-STOCKS/ (UPDATE 6, GRAPHIC)</p></div>"
      ],
      "text/plain": [
       "<IPython.core.display.HTML object>"
      ]
     },
     "metadata": {},
     "output_type": "display_data"
    }
   ],
   "source": [
    "from IPython.core.display import display, HTML\n",
    "df = ek.get_news_headlines(query='PresetTopic:[Significant News: All] AND R:AAPL.O AND Language:LEN')\n",
    "df['HTML'] = df['storyId'].apply(ek.get_news_story)\n",
    "display(HTML(ek.get_news_story(df['storyId'][2])))"
   ]
  },
  {
   "cell_type": "code",
   "execution_count": 207,
   "metadata": {},
   "outputs": [
    {
     "name": "stderr",
     "output_type": "stream",
     "text": [
      "C:\\Users\\paulv\\AppData\\Local\\Temp\\ipykernel_14588\\2206903417.py:13: SettingWithCopyWarning: \n",
      "A value is trying to be set on a copy of a slice from a DataFrame\n",
      "\n",
      "See the caveats in the documentation: https://pandas.pydata.org/pandas-docs/stable/user_guide/indexing.html#returning-a-view-versus-a-copy\n",
      "  df['Polarity'].iloc[idx] = sentA.sentiment.polarity #write sentiment polarity back to df\n",
      "C:\\Users\\paulv\\AppData\\Local\\Temp\\ipykernel_14588\\2206903417.py:14: SettingWithCopyWarning: \n",
      "A value is trying to be set on a copy of a slice from a DataFrame\n",
      "\n",
      "See the caveats in the documentation: https://pandas.pydata.org/pandas-docs/stable/user_guide/indexing.html#returning-a-view-versus-a-copy\n",
      "  df['Subjectivity'].iloc[idx] = sentA.sentiment.subjectivity #write sentiment subjectivity score back to df\n",
      "C:\\Users\\paulv\\AppData\\Local\\Temp\\ipykernel_14588\\2206903417.py:21: SettingWithCopyWarning: \n",
      "A value is trying to be set on a copy of a slice from a DataFrame\n",
      "\n",
      "See the caveats in the documentation: https://pandas.pydata.org/pandas-docs/stable/user_guide/indexing.html#returning-a-view-versus-a-copy\n",
      "  df['Score'].iloc[idx] = score #write score back to df\n"
     ]
    },
    {
     "data": {
      "text/html": [
       "<div>\n",
       "<style scoped>\n",
       "    .dataframe tbody tr th:only-of-type {\n",
       "        vertical-align: middle;\n",
       "    }\n",
       "\n",
       "    .dataframe tbody tr th {\n",
       "        vertical-align: top;\n",
       "    }\n",
       "\n",
       "    .dataframe thead th {\n",
       "        text-align: right;\n",
       "    }\n",
       "</style>\n",
       "<table border=\"1\" class=\"dataframe\">\n",
       "  <thead>\n",
       "    <tr style=\"text-align: right;\">\n",
       "      <th></th>\n",
       "      <th>versionCreated</th>\n",
       "      <th>text</th>\n",
       "      <th>storyId</th>\n",
       "      <th>sourceCode</th>\n",
       "      <th>Polarity</th>\n",
       "      <th>Subjectivity</th>\n",
       "      <th>Score</th>\n",
       "    </tr>\n",
       "  </thead>\n",
       "  <tbody>\n",
       "    <tr>\n",
       "      <th>2023-03-31 22:47:30.000</th>\n",
       "      <td>2023-03-31 22:47:30+00:00</td>\n",
       "      <td>Apple wins reversal of $502 mln VirnetX patent...</td>\n",
       "      <td>urn:newsml:newswire.refinitiv.com:20230331:nL1...</td>\n",
       "      <td>NS:RTRS</td>\n",
       "      <td>0.041667</td>\n",
       "      <td>0.462500</td>\n",
       "      <td>neutral</td>\n",
       "    </tr>\n",
       "    <tr>\n",
       "      <th>2023-03-31 22:29:52.569</th>\n",
       "      <td>2023-03-31 22:35:18.620000+00:00</td>\n",
       "      <td>Refinitiv Newscasts - Stocks rally, Nasdaq pos...</td>\n",
       "      <td>urn:newsml:newswire.refinitiv.com:20230331:nRT...</td>\n",
       "      <td>NS:RTRS</td>\n",
       "      <td>0.075000</td>\n",
       "      <td>0.325000</td>\n",
       "      <td>positive</td>\n",
       "    </tr>\n",
       "    <tr>\n",
       "      <th>2023-03-31 20:00:25.000</th>\n",
       "      <td>2023-03-31 20:00:25+00:00</td>\n",
       "      <td>US STOCKS-Nasdaq posts best qtr since 2020, la...</td>\n",
       "      <td>urn:newsml:newswire.refinitiv.com:20230331:nL1...</td>\n",
       "      <td>NS:RTRS</td>\n",
       "      <td>0.102759</td>\n",
       "      <td>0.395794</td>\n",
       "      <td>positive</td>\n",
       "    </tr>\n",
       "    <tr>\n",
       "      <th>2023-03-31 14:00:00.000</th>\n",
       "      <td>2023-03-31 19:54:46+00:00</td>\n",
       "      <td>CORRECTED-GM plans to phase out Apple CarPlay ...</td>\n",
       "      <td>urn:newsml:newswire.refinitiv.com:20230331:nL1...</td>\n",
       "      <td>NS:RTRS</td>\n",
       "      <td>0.120044</td>\n",
       "      <td>0.341345</td>\n",
       "      <td>positive</td>\n",
       "    </tr>\n",
       "    <tr>\n",
       "      <th>2023-03-31 16:38:22.000</th>\n",
       "      <td>2023-03-31 18:45:19+00:00</td>\n",
       "      <td>UPDATE 2-Apple wins appeal against UK's decisi...</td>\n",
       "      <td>urn:newsml:newswire.refinitiv.com:20230331:nL8...</td>\n",
       "      <td>NS:RTRS</td>\n",
       "      <td>0.157292</td>\n",
       "      <td>0.539062</td>\n",
       "      <td>positive</td>\n",
       "    </tr>\n",
       "  </tbody>\n",
       "</table>\n",
       "</div>"
      ],
      "text/plain": [
       "                                          versionCreated  \\\n",
       "2023-03-31 22:47:30.000        2023-03-31 22:47:30+00:00   \n",
       "2023-03-31 22:29:52.569 2023-03-31 22:35:18.620000+00:00   \n",
       "2023-03-31 20:00:25.000        2023-03-31 20:00:25+00:00   \n",
       "2023-03-31 14:00:00.000        2023-03-31 19:54:46+00:00   \n",
       "2023-03-31 16:38:22.000        2023-03-31 18:45:19+00:00   \n",
       "\n",
       "                                                                      text  \\\n",
       "2023-03-31 22:47:30.000  Apple wins reversal of $502 mln VirnetX patent...   \n",
       "2023-03-31 22:29:52.569  Refinitiv Newscasts - Stocks rally, Nasdaq pos...   \n",
       "2023-03-31 20:00:25.000  US STOCKS-Nasdaq posts best qtr since 2020, la...   \n",
       "2023-03-31 14:00:00.000  CORRECTED-GM plans to phase out Apple CarPlay ...   \n",
       "2023-03-31 16:38:22.000  UPDATE 2-Apple wins appeal against UK's decisi...   \n",
       "\n",
       "                                                                   storyId  \\\n",
       "2023-03-31 22:47:30.000  urn:newsml:newswire.refinitiv.com:20230331:nL1...   \n",
       "2023-03-31 22:29:52.569  urn:newsml:newswire.refinitiv.com:20230331:nRT...   \n",
       "2023-03-31 20:00:25.000  urn:newsml:newswire.refinitiv.com:20230331:nL1...   \n",
       "2023-03-31 14:00:00.000  urn:newsml:newswire.refinitiv.com:20230331:nL1...   \n",
       "2023-03-31 16:38:22.000  urn:newsml:newswire.refinitiv.com:20230331:nL8...   \n",
       "\n",
       "                        sourceCode  Polarity  Subjectivity     Score  \n",
       "2023-03-31 22:47:30.000    NS:RTRS  0.041667      0.462500   neutral  \n",
       "2023-03-31 22:29:52.569    NS:RTRS  0.075000      0.325000  positive  \n",
       "2023-03-31 20:00:25.000    NS:RTRS  0.102759      0.395794  positive  \n",
       "2023-03-31 14:00:00.000    NS:RTRS  0.120044      0.341345  positive  \n",
       "2023-03-31 16:38:22.000    NS:RTRS  0.157292      0.539062  positive  "
      ]
     },
     "execution_count": 207,
     "metadata": {},
     "output_type": "execute_result"
    }
   ],
   "source": [
    "from bs4 import BeautifulSoup\n",
    "from textblob import TextBlob\n",
    "import numpy as np\n",
    "df['Polarity'] = np.nan\n",
    "df['Subjectivity'] = np.nan\n",
    "df['Score'] = np.nan\n",
    "\n",
    "for idx, storyId in enumerate(df['storyId'].values):\n",
    "    newsText = ek.get_news_story(storyId) #get the news story\n",
    "    if newsText:\n",
    "        soup = BeautifulSoup(newsText,\"lxml\") #create a BeautifulSoup object from our HTML news article\n",
    "        sentA = TextBlob(soup.get_text()) #pass the text only article to TextBlob to anaylse\n",
    "        df['Polarity'].iloc[idx] = sentA.sentiment.polarity #write sentiment polarity back to df\n",
    "        df['Subjectivity'].iloc[idx] = sentA.sentiment.subjectivity #write sentiment subjectivity score back to df\n",
    "        if sentA.sentiment.polarity >= 0.05: # attribute bucket to sentiment polartiy\n",
    "            score = 'positive'\n",
    "        elif  -.05 < sentA.sentiment.polarity < 0.05:\n",
    "            score = 'neutral'\n",
    "        else:\n",
    "            score = 'negative'\n",
    "        df['Score'].iloc[idx] = score #write score back to df\n",
    "df.head()"
   ]
  },
  {
   "cell_type": "code",
   "execution_count": 264,
   "metadata": {},
   "outputs": [
    {
     "data": {
      "application/vnd.plotly.v1+json": {
       "config": {
        "plotlyServerURL": "https://plot.ly"
       },
       "data": [
        {
         "marker": {
          "color": "midnightblue",
          "size": 30,
          "symbol": "star-diamond"
         },
         "mode": "markers+text",
         "text": [
          "2222.SE",
          "Industry"
         ],
         "textposition": "top center",
         "type": "scatter",
         "x": [
          0.205866476485561,
          0.32428648812257704
         ],
         "y": [
          0,
          0
         ]
        }
       ],
       "layout": {
        "annotations": [
         {
          "align": "left",
          "arrowcolor": "#636363",
          "arrowhead": 1,
          "arrowsize": 1,
          "arrowwidth": 2,
          "ax": 0,
          "ay": 0,
          "bgcolor": "black",
          "bordercolor": "black",
          "borderwidth": 2,
          "font": {
           "color": "white",
           "family": "Courier New, monospace",
           "size": 12
          },
          "opacity": 1,
          "showarrow": true,
          "text": "Low",
          "x": 0.025,
          "y": 0
         },
         {
          "align": "left",
          "arrowcolor": "#636363",
          "arrowhead": 1,
          "arrowsize": 1,
          "arrowwidth": 2,
          "ax": 0,
          "ay": 0,
          "bgcolor": "black",
          "bordercolor": "black",
          "borderwidth": 2,
          "font": {
           "color": "white",
           "family": "Courier New, monospace",
           "size": 12
          },
          "opacity": 1,
          "showarrow": true,
          "text": "High",
          "x": 0.4242864881225771,
          "y": 0
         }
        ],
        "height": 500,
        "plot_bgcolor": "white",
        "template": {
         "data": {
          "bar": [
           {
            "error_x": {
             "color": "#2a3f5f"
            },
            "error_y": {
             "color": "#2a3f5f"
            },
            "marker": {
             "line": {
              "color": "#E5ECF6",
              "width": 0.5
             },
             "pattern": {
              "fillmode": "overlay",
              "size": 10,
              "solidity": 0.2
             }
            },
            "type": "bar"
           }
          ],
          "barpolar": [
           {
            "marker": {
             "line": {
              "color": "#E5ECF6",
              "width": 0.5
             },
             "pattern": {
              "fillmode": "overlay",
              "size": 10,
              "solidity": 0.2
             }
            },
            "type": "barpolar"
           }
          ],
          "carpet": [
           {
            "aaxis": {
             "endlinecolor": "#2a3f5f",
             "gridcolor": "white",
             "linecolor": "white",
             "minorgridcolor": "white",
             "startlinecolor": "#2a3f5f"
            },
            "baxis": {
             "endlinecolor": "#2a3f5f",
             "gridcolor": "white",
             "linecolor": "white",
             "minorgridcolor": "white",
             "startlinecolor": "#2a3f5f"
            },
            "type": "carpet"
           }
          ],
          "choropleth": [
           {
            "colorbar": {
             "outlinewidth": 0,
             "ticks": ""
            },
            "type": "choropleth"
           }
          ],
          "contour": [
           {
            "colorbar": {
             "outlinewidth": 0,
             "ticks": ""
            },
            "colorscale": [
             [
              0,
              "#0d0887"
             ],
             [
              0.1111111111111111,
              "#46039f"
             ],
             [
              0.2222222222222222,
              "#7201a8"
             ],
             [
              0.3333333333333333,
              "#9c179e"
             ],
             [
              0.4444444444444444,
              "#bd3786"
             ],
             [
              0.5555555555555556,
              "#d8576b"
             ],
             [
              0.6666666666666666,
              "#ed7953"
             ],
             [
              0.7777777777777778,
              "#fb9f3a"
             ],
             [
              0.8888888888888888,
              "#fdca26"
             ],
             [
              1,
              "#f0f921"
             ]
            ],
            "type": "contour"
           }
          ],
          "contourcarpet": [
           {
            "colorbar": {
             "outlinewidth": 0,
             "ticks": ""
            },
            "type": "contourcarpet"
           }
          ],
          "heatmap": [
           {
            "colorbar": {
             "outlinewidth": 0,
             "ticks": ""
            },
            "colorscale": [
             [
              0,
              "#0d0887"
             ],
             [
              0.1111111111111111,
              "#46039f"
             ],
             [
              0.2222222222222222,
              "#7201a8"
             ],
             [
              0.3333333333333333,
              "#9c179e"
             ],
             [
              0.4444444444444444,
              "#bd3786"
             ],
             [
              0.5555555555555556,
              "#d8576b"
             ],
             [
              0.6666666666666666,
              "#ed7953"
             ],
             [
              0.7777777777777778,
              "#fb9f3a"
             ],
             [
              0.8888888888888888,
              "#fdca26"
             ],
             [
              1,
              "#f0f921"
             ]
            ],
            "type": "heatmap"
           }
          ],
          "heatmapgl": [
           {
            "colorbar": {
             "outlinewidth": 0,
             "ticks": ""
            },
            "colorscale": [
             [
              0,
              "#0d0887"
             ],
             [
              0.1111111111111111,
              "#46039f"
             ],
             [
              0.2222222222222222,
              "#7201a8"
             ],
             [
              0.3333333333333333,
              "#9c179e"
             ],
             [
              0.4444444444444444,
              "#bd3786"
             ],
             [
              0.5555555555555556,
              "#d8576b"
             ],
             [
              0.6666666666666666,
              "#ed7953"
             ],
             [
              0.7777777777777778,
              "#fb9f3a"
             ],
             [
              0.8888888888888888,
              "#fdca26"
             ],
             [
              1,
              "#f0f921"
             ]
            ],
            "type": "heatmapgl"
           }
          ],
          "histogram": [
           {
            "marker": {
             "pattern": {
              "fillmode": "overlay",
              "size": 10,
              "solidity": 0.2
             }
            },
            "type": "histogram"
           }
          ],
          "histogram2d": [
           {
            "colorbar": {
             "outlinewidth": 0,
             "ticks": ""
            },
            "colorscale": [
             [
              0,
              "#0d0887"
             ],
             [
              0.1111111111111111,
              "#46039f"
             ],
             [
              0.2222222222222222,
              "#7201a8"
             ],
             [
              0.3333333333333333,
              "#9c179e"
             ],
             [
              0.4444444444444444,
              "#bd3786"
             ],
             [
              0.5555555555555556,
              "#d8576b"
             ],
             [
              0.6666666666666666,
              "#ed7953"
             ],
             [
              0.7777777777777778,
              "#fb9f3a"
             ],
             [
              0.8888888888888888,
              "#fdca26"
             ],
             [
              1,
              "#f0f921"
             ]
            ],
            "type": "histogram2d"
           }
          ],
          "histogram2dcontour": [
           {
            "colorbar": {
             "outlinewidth": 0,
             "ticks": ""
            },
            "colorscale": [
             [
              0,
              "#0d0887"
             ],
             [
              0.1111111111111111,
              "#46039f"
             ],
             [
              0.2222222222222222,
              "#7201a8"
             ],
             [
              0.3333333333333333,
              "#9c179e"
             ],
             [
              0.4444444444444444,
              "#bd3786"
             ],
             [
              0.5555555555555556,
              "#d8576b"
             ],
             [
              0.6666666666666666,
              "#ed7953"
             ],
             [
              0.7777777777777778,
              "#fb9f3a"
             ],
             [
              0.8888888888888888,
              "#fdca26"
             ],
             [
              1,
              "#f0f921"
             ]
            ],
            "type": "histogram2dcontour"
           }
          ],
          "mesh3d": [
           {
            "colorbar": {
             "outlinewidth": 0,
             "ticks": ""
            },
            "type": "mesh3d"
           }
          ],
          "parcoords": [
           {
            "line": {
             "colorbar": {
              "outlinewidth": 0,
              "ticks": ""
             }
            },
            "type": "parcoords"
           }
          ],
          "pie": [
           {
            "automargin": true,
            "type": "pie"
           }
          ],
          "scatter": [
           {
            "fillpattern": {
             "fillmode": "overlay",
             "size": 10,
             "solidity": 0.2
            },
            "type": "scatter"
           }
          ],
          "scatter3d": [
           {
            "line": {
             "colorbar": {
              "outlinewidth": 0,
              "ticks": ""
             }
            },
            "marker": {
             "colorbar": {
              "outlinewidth": 0,
              "ticks": ""
             }
            },
            "type": "scatter3d"
           }
          ],
          "scattercarpet": [
           {
            "marker": {
             "colorbar": {
              "outlinewidth": 0,
              "ticks": ""
             }
            },
            "type": "scattercarpet"
           }
          ],
          "scattergeo": [
           {
            "marker": {
             "colorbar": {
              "outlinewidth": 0,
              "ticks": ""
             }
            },
            "type": "scattergeo"
           }
          ],
          "scattergl": [
           {
            "marker": {
             "colorbar": {
              "outlinewidth": 0,
              "ticks": ""
             }
            },
            "type": "scattergl"
           }
          ],
          "scattermapbox": [
           {
            "marker": {
             "colorbar": {
              "outlinewidth": 0,
              "ticks": ""
             }
            },
            "type": "scattermapbox"
           }
          ],
          "scatterpolar": [
           {
            "marker": {
             "colorbar": {
              "outlinewidth": 0,
              "ticks": ""
             }
            },
            "type": "scatterpolar"
           }
          ],
          "scatterpolargl": [
           {
            "marker": {
             "colorbar": {
              "outlinewidth": 0,
              "ticks": ""
             }
            },
            "type": "scatterpolargl"
           }
          ],
          "scatterternary": [
           {
            "marker": {
             "colorbar": {
              "outlinewidth": 0,
              "ticks": ""
             }
            },
            "type": "scatterternary"
           }
          ],
          "surface": [
           {
            "colorbar": {
             "outlinewidth": 0,
             "ticks": ""
            },
            "colorscale": [
             [
              0,
              "#0d0887"
             ],
             [
              0.1111111111111111,
              "#46039f"
             ],
             [
              0.2222222222222222,
              "#7201a8"
             ],
             [
              0.3333333333333333,
              "#9c179e"
             ],
             [
              0.4444444444444444,
              "#bd3786"
             ],
             [
              0.5555555555555556,
              "#d8576b"
             ],
             [
              0.6666666666666666,
              "#ed7953"
             ],
             [
              0.7777777777777778,
              "#fb9f3a"
             ],
             [
              0.8888888888888888,
              "#fdca26"
             ],
             [
              1,
              "#f0f921"
             ]
            ],
            "type": "surface"
           }
          ],
          "table": [
           {
            "cells": {
             "fill": {
              "color": "#EBF0F8"
             },
             "line": {
              "color": "white"
             }
            },
            "header": {
             "fill": {
              "color": "#C8D4E3"
             },
             "line": {
              "color": "white"
             }
            },
            "type": "table"
           }
          ]
         },
         "layout": {
          "annotationdefaults": {
           "arrowcolor": "#2a3f5f",
           "arrowhead": 0,
           "arrowwidth": 1
          },
          "autotypenumbers": "strict",
          "coloraxis": {
           "colorbar": {
            "outlinewidth": 0,
            "ticks": ""
           }
          },
          "colorscale": {
           "diverging": [
            [
             0,
             "#8e0152"
            ],
            [
             0.1,
             "#c51b7d"
            ],
            [
             0.2,
             "#de77ae"
            ],
            [
             0.3,
             "#f1b6da"
            ],
            [
             0.4,
             "#fde0ef"
            ],
            [
             0.5,
             "#f7f7f7"
            ],
            [
             0.6,
             "#e6f5d0"
            ],
            [
             0.7,
             "#b8e186"
            ],
            [
             0.8,
             "#7fbc41"
            ],
            [
             0.9,
             "#4d9221"
            ],
            [
             1,
             "#276419"
            ]
           ],
           "sequential": [
            [
             0,
             "#0d0887"
            ],
            [
             0.1111111111111111,
             "#46039f"
            ],
            [
             0.2222222222222222,
             "#7201a8"
            ],
            [
             0.3333333333333333,
             "#9c179e"
            ],
            [
             0.4444444444444444,
             "#bd3786"
            ],
            [
             0.5555555555555556,
             "#d8576b"
            ],
            [
             0.6666666666666666,
             "#ed7953"
            ],
            [
             0.7777777777777778,
             "#fb9f3a"
            ],
            [
             0.8888888888888888,
             "#fdca26"
            ],
            [
             1,
             "#f0f921"
            ]
           ],
           "sequentialminus": [
            [
             0,
             "#0d0887"
            ],
            [
             0.1111111111111111,
             "#46039f"
            ],
            [
             0.2222222222222222,
             "#7201a8"
            ],
            [
             0.3333333333333333,
             "#9c179e"
            ],
            [
             0.4444444444444444,
             "#bd3786"
            ],
            [
             0.5555555555555556,
             "#d8576b"
            ],
            [
             0.6666666666666666,
             "#ed7953"
            ],
            [
             0.7777777777777778,
             "#fb9f3a"
            ],
            [
             0.8888888888888888,
             "#fdca26"
            ],
            [
             1,
             "#f0f921"
            ]
           ]
          },
          "colorway": [
           "#636efa",
           "#EF553B",
           "#00cc96",
           "#ab63fa",
           "#FFA15A",
           "#19d3f3",
           "#FF6692",
           "#B6E880",
           "#FF97FF",
           "#FECB52"
          ],
          "font": {
           "color": "#2a3f5f"
          },
          "geo": {
           "bgcolor": "white",
           "lakecolor": "white",
           "landcolor": "#E5ECF6",
           "showlakes": true,
           "showland": true,
           "subunitcolor": "white"
          },
          "hoverlabel": {
           "align": "left"
          },
          "hovermode": "closest",
          "mapbox": {
           "style": "light"
          },
          "paper_bgcolor": "white",
          "plot_bgcolor": "#E5ECF6",
          "polar": {
           "angularaxis": {
            "gridcolor": "white",
            "linecolor": "white",
            "ticks": ""
           },
           "bgcolor": "#E5ECF6",
           "radialaxis": {
            "gridcolor": "white",
            "linecolor": "white",
            "ticks": ""
           }
          },
          "scene": {
           "xaxis": {
            "backgroundcolor": "#E5ECF6",
            "gridcolor": "white",
            "gridwidth": 2,
            "linecolor": "white",
            "showbackground": true,
            "ticks": "",
            "zerolinecolor": "white"
           },
           "yaxis": {
            "backgroundcolor": "#E5ECF6",
            "gridcolor": "white",
            "gridwidth": 2,
            "linecolor": "white",
            "showbackground": true,
            "ticks": "",
            "zerolinecolor": "white"
           },
           "zaxis": {
            "backgroundcolor": "#E5ECF6",
            "gridcolor": "white",
            "gridwidth": 2,
            "linecolor": "white",
            "showbackground": true,
            "ticks": "",
            "zerolinecolor": "white"
           }
          },
          "shapedefaults": {
           "line": {
            "color": "#2a3f5f"
           }
          },
          "ternary": {
           "aaxis": {
            "gridcolor": "white",
            "linecolor": "white",
            "ticks": ""
           },
           "baxis": {
            "gridcolor": "white",
            "linecolor": "white",
            "ticks": ""
           },
           "bgcolor": "#E5ECF6",
           "caxis": {
            "gridcolor": "white",
            "linecolor": "white",
            "ticks": ""
           }
          },
          "title": {
           "x": 0.05
          },
          "xaxis": {
           "automargin": true,
           "gridcolor": "white",
           "linecolor": "white",
           "ticks": "",
           "title": {
            "standoff": 15
           },
           "zerolinecolor": "white",
           "zerolinewidth": 2
          },
          "yaxis": {
           "automargin": true,
           "gridcolor": "white",
           "linecolor": "white",
           "ticks": "",
           "title": {
            "standoff": 15
           },
           "zerolinecolor": "white",
           "zerolinewidth": 2
          }
         }
        },
        "xaxis": {
         "showgrid": false
        },
        "yaxis": {
         "range": [
          0,
          0
         ],
         "showgrid": false,
         "showticklabels": false,
         "zeroline": true,
         "zerolinecolor": "green",
         "zerolinewidth": 20
        }
       }
      }
     },
     "metadata": {},
     "output_type": "display_data"
    }
   ],
   "source": [
    "import plotly.graph_objects as go\n",
    "import plotly.express as px\n",
    "import pandas as pd\n",
    "\n",
    "def volatility(ticker):\n",
    "    dataPath = os.path.abspath(os.path.join(os.path.dirname((os.path.curdir.__dir__()[0])), '..', 'Data'))\n",
    "    fundDF = pd.read_csv(dataPath+'\\\\{}\\\\Fundamentals.csv'.format(ticker))\n",
    "    pDF = pd.read_csv(dataPath+'\\\\{}\\\\Peers.csv'.format(ticker))\n",
    "    volAvg = pDF['TR.VOLATILITY260D/100'].mean()\n",
    "    volAsset = fundDF['TR.VOLATILITY260D/100'][0]\n",
    "    if (volAvg>volAsset):\n",
    "        high = volAvg\n",
    "    else:\n",
    "        high = volAsset\n",
    "\n",
    "    fig = go.Figure()\n",
    "    fig.add_trace(go.Scatter(\n",
    "        x=[volAsset,volAvg], y=[0,0], mode='markers+text', marker_size=30, text=[ticker,'Industry'], textposition='top center', marker_symbol = 'star-diamond',marker_color=\"midnightblue\",\n",
    "    ))\n",
    "    fig.add_annotation(x=0.025\n",
    "        , y=0\n",
    "        , text=f'Low'\n",
    "        , showarrow=True\n",
    "        , arrowhead=1\n",
    "        , arrowsize=1\n",
    "        , arrowwidth=2\n",
    "        , arrowcolor=\"#636363\"\n",
    "        , ax=0\n",
    "        , ay=0\n",
    "        , font=dict(size=12, color=\"white\", family=\"Courier New, monospace\")\n",
    "        , align=\"left\"\n",
    "        , bordercolor='black'\n",
    "        , borderwidth=2\n",
    "        , bgcolor=\"black\"\n",
    "        , opacity=1)\n",
    "    fig.add_annotation(x=high+0.1\n",
    "        , y=0\n",
    "        , text=f'High'\n",
    "        , showarrow=True\n",
    "        , arrowhead=1\n",
    "        , arrowsize=1\n",
    "        , arrowwidth=2\n",
    "        , arrowcolor=\"#636363\"\n",
    "        , ax=0\n",
    "        , ay=0\n",
    "        , font=dict(size=12, color=\"white\", family=\"Courier New, monospace\")\n",
    "        , align=\"left\"\n",
    "        , bordercolor='black'\n",
    "        , borderwidth=2\n",
    "        , bgcolor=\"black\"\n",
    "        , opacity=1)\n",
    "    fig.update_xaxes(showgrid=False,)\n",
    "    fig.update_yaxes(showgrid=False,\n",
    "                    zeroline=True, zerolinecolor='green', zerolinewidth=20,\n",
    "                    showticklabels=False, range=[0,0])\n",
    "    fig.update_layout(height=500, plot_bgcolor='white')\n",
    "    #fig.show()\n",
    "    return fig\n",
    "dataPath = os.path.abspath(os.path.join(os.path.dirname((os.path.curdir.__dir__()[0])), '..', 'Data'))\n",
    "figs = volatility('2222.SE')\n",
    "figs.show()"
   ]
  },
  {
   "cell_type": "code",
   "execution_count": 245,
   "metadata": {},
   "outputs": [
    {
     "data": {
      "text/plain": [
       "0.37628672963383814"
      ]
     },
     "execution_count": 245,
     "metadata": {},
     "output_type": "execute_result"
    }
   ],
   "source": [
    "import os\n",
    "dataPath = os.path.abspath(os.path.join(os.path.dirname((os.path.curdir.__dir__()[0])), '..', 'Data'))\n",
    "fundDF = pd.read_csv(dataPath+'\\\\AAPL.OQ\\\\Fundamentals.csv')\n",
    "pDF = pd.read_csv(dataPath+'\\\\AAPL.OQ\\\\Peers.csv')\n",
    "pDF['TR.VOLATILITY260D/100'].mean()"
   ]
  }
 ],
 "metadata": {
  "kernelspec": {
   "display_name": "Python 3",
   "language": "python",
   "name": "python3"
  },
  "language_info": {
   "codemirror_mode": {
    "name": "ipython",
    "version": 3
   },
   "file_extension": ".py",
   "mimetype": "text/x-python",
   "name": "python",
   "nbconvert_exporter": "python",
   "pygments_lexer": "ipython3",
   "version": "3.11.2"
  },
  "orig_nbformat": 4
 },
 "nbformat": 4,
 "nbformat_minor": 2
}
